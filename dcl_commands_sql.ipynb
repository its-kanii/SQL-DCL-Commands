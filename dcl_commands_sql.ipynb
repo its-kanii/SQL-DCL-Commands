{
  "nbformat": 4,
  "nbformat_minor": 0,
  "metadata": {
    "colab": {
      "provenance": [],
      "authorship_tag": "ABX9TyMV5IndlXlaObhqT2UFYQdR",
      "include_colab_link": true
    },
    "kernelspec": {
      "name": "python3",
      "display_name": "Python 3"
    },
    "language_info": {
      "name": "python"
    }
  },
  "cells": [
    {
      "cell_type": "markdown",
      "metadata": {
        "id": "view-in-github",
        "colab_type": "text"
      },
      "source": [
        "<a href=\"https://colab.research.google.com/github/its-kanii/SQL-DCL-Commands/blob/main/dcl_commands_sql.ipynb\" target=\"_parent\"><img src=\"https://colab.research.google.com/assets/colab-badge.svg\" alt=\"Open In Colab\"/></a>"
      ]
    },
    {
      "cell_type": "markdown",
      "source": [
        "#Data Control Language (DCL) Commands in SQL\n",
        "DCL commands are used to control access to data within a database.\n",
        "\n",
        "The two primary DCL commands are:\n",
        "\n",
        "1.GRANT – Provides specific privileges to users or roles.\n",
        "\n",
        "2.REVOKE – Removes previously granted privileges from users or roles."
      ],
      "metadata": {
        "id": "pHP6JOgqufqM"
      }
    },
    {
      "cell_type": "markdown",
      "source": [
        "#1. GRANT Command\n",
        "The GRANT command gives specific privileges to a user or role in the database.\n",
        "\n",
        "**Syntax**"
      ],
      "metadata": {
        "id": "eYbCMvJ2u4_b"
      }
    },
    {
      "cell_type": "code",
      "source": [
        "%%sql\n",
        "GRANT privilege_name ON object_name TO user_name;"
      ],
      "metadata": {
        "id": "Y4xjTXuXuyvV"
      },
      "execution_count": null,
      "outputs": []
    },
    {
      "cell_type": "markdown",
      "source": [
        "**Example**\n",
        "\n",
        "Granting the SELECT privilege on the employees table to a user named john:"
      ],
      "metadata": {
        "id": "Klhs2MLGvGUx"
      }
    },
    {
      "cell_type": "code",
      "execution_count": null,
      "metadata": {
        "id": "55YoJCoxudam"
      },
      "outputs": [],
      "source": [
        "%%sql\n",
        "GRANT SELECT ON employees TO john;"
      ]
    },
    {
      "cell_type": "markdown",
      "source": [
        "**Real-Time Use Case**\n",
        "\n",
        "Suppose a company has a payroll database, and the HR department needs access to employee details but should not modify them. The administrator can grant the HR team SELECT privileges on the employees table."
      ],
      "metadata": {
        "id": "4RJORJ2QvQOZ"
      }
    },
    {
      "cell_type": "code",
      "source": [
        "%%sql\n",
        "GRANT SELECT ON payroll_db.employees TO hr_team;"
      ],
      "metadata": {
        "id": "ELpOYSVYvZdv"
      },
      "execution_count": null,
      "outputs": []
    },
    {
      "cell_type": "markdown",
      "source": [
        "#2. REVOKE Command\n",
        "The REVOKE command removes access rights or privileges from users or roles.\n",
        "\n",
        "**Syntax**"
      ],
      "metadata": {
        "id": "alWS5Oz2vXi3"
      }
    },
    {
      "cell_type": "code",
      "source": [
        "%%sql\n",
        "REVOKE privilege_name ON object_name FROM user_name;"
      ],
      "metadata": {
        "id": "VUkk5MRPvjNe"
      },
      "execution_count": null,
      "outputs": []
    },
    {
      "cell_type": "markdown",
      "source": [
        "**Example**\n",
        "\n",
        "Revoking the SELECT privilege from user john on the employees table:\n",
        "\n",
        "\n"
      ],
      "metadata": {
        "id": "7B-OqojJvmj2"
      }
    },
    {
      "cell_type": "code",
      "source": [
        "%%sql\n",
        "REVOKE SELECT ON employees FROM john;"
      ],
      "metadata": {
        "id": "oxzzEZ0qvuMO"
      },
      "execution_count": null,
      "outputs": []
    },
    {
      "cell_type": "markdown",
      "source": [
        "**Real-Time Use Case**\n",
        "\n",
        "If an employee in the HR team is transferred to a different department, their access to payroll data should be removed:"
      ],
      "metadata": {
        "id": "uOl1syALvsQ2"
      }
    },
    {
      "cell_type": "code",
      "source": [
        "%%sql\n",
        "REVOKE SELECT ON payroll_db.employees FROM hr_team;"
      ],
      "metadata": {
        "id": "ojpXn49Qv0TH"
      },
      "execution_count": null,
      "outputs": []
    },
    {
      "cell_type": "markdown",
      "source": [
        "#Advanced Example: Granting Multiple Privileges\n",
        "Granting SELECT and INSERT privileges on the orders table to user mike:"
      ],
      "metadata": {
        "id": "sVXuUMzvv6Lo"
      }
    },
    {
      "cell_type": "code",
      "source": [
        "%%sql\n",
        "GRANT SELECT, INSERT ON orders TO mike;"
      ],
      "metadata": {
        "id": "z4X0_o0Hv8OS"
      },
      "execution_count": null,
      "outputs": []
    },
    {
      "cell_type": "markdown",
      "source": [
        "Revoking only the INSERT privilege from mike:"
      ],
      "metadata": {
        "id": "XdCD__cswCOj"
      }
    },
    {
      "cell_type": "code",
      "source": [
        "%%sql\n",
        "REVOKE INSERT ON orders FROM mike;"
      ],
      "metadata": {
        "id": "Xc8tevNSwACg"
      },
      "execution_count": null,
      "outputs": []
    },
    {
      "cell_type": "markdown",
      "source": [
        "#Conclusion\n",
        "* Use GRANT to give necessary permissions to users/roles.\n",
        "* Use REVOKE to remove permissions when access is no longer required.\n",
        "* These commands ensure data security and controlled access in databases.\n",
        "\n",
        "  \n",
        "\n",
        "\n"
      ],
      "metadata": {
        "id": "zlvPq2EgwJAd"
      }
    }
  ]
}